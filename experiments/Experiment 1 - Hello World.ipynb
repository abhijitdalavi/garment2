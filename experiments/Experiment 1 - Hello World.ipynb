{
 "cells": [
  {
   "cell_type": "markdown",
   "metadata": {
    "deletable": true,
    "editable": true
   },
   "source": [
    "# Experiment 1 - Hello World\n",
    "\n",
    "### Description\n",
    "* **Dataset** : CloPeMa CTU 'Flat and Wrinkled' and 'Folded' combined. Validation subset randomly chosen with a probabilty of 30%.\n",
    "(https://drive.google.com/file/d/0B8Z1YBnBij8sYmpZanJ2a2VaSGs/view?usp=sharing)\n",
    "* **"
   ]
  },
  {
   "cell_type": "code",
   "execution_count": 1,
   "metadata": {
    "collapsed": false,
    "deletable": true,
    "editable": true
   },
   "outputs": [
    {
     "name": "stderr",
     "output_type": "stream",
     "text": [
      "Using TensorFlow backend.\n"
     ]
    }
   ],
   "source": [
    "from keras.models import Sequential\n",
    "from keras.layers import Convolution2D, MaxPooling2D\n",
    "from keras.layers import Activation, Dropout, Flatten, Dense\n",
    "from keras.preprocessing.image import ImageDataGenerator\n",
    "from sklearn.metrics import classification_report\n",
    "from sklearn.metrics import confusion_matrix\n",
    "import matplotlib.pyplot as plt\n",
    "import numpy as np\n",
    "import operator\n",
    "import pandas as pd\n"
   ]
  },
  {
   "cell_type": "code",
   "execution_count": 2,
   "metadata": {
    "collapsed": true,
    "deletable": true,
    "editable": true
   },
   "outputs": [],
   "source": [
    "DATASET_PATH = '/home/danfergo/SIG/Code/Experiments/data/clopema'"
   ]
  },
  {
   "cell_type": "code",
   "execution_count": 3,
   "metadata": {
    "collapsed": false,
    "deletable": true,
    "editable": true
   },
   "outputs": [
    {
     "name": "stdout",
     "output_type": "stream",
     "text": [
      "Found 2366 images belonging to 9 classes.\n",
      "Found 262 images belonging to 9 classes.\n"
     ]
    }
   ],
   "source": [
    "train_datagen = ImageDataGenerator(\n",
    ")\n",
    "\n",
    "validation_datagen = ImageDataGenerator(\n",
    ")\n",
    "\n",
    "\n",
    "train_generator = train_datagen.flow_from_directory(\n",
    "        DATASET_PATH + '/train',  # this is the target directory\n",
    "        target_size=(150, 150),  # all images will be resized to 150x150\n",
    "        batch_size=32,\n",
    "        class_mode='categorical',\n",
    "        shuffle=True\n",
    ")\n",
    "\n",
    "validation_generator = validation_datagen.flow_from_directory(\n",
    "        DATASET_PATH + '/validation',\n",
    "        target_size=(150, 150),\n",
    "        batch_size=32,\n",
    "        class_mode='categorical'\n",
    ")"
   ]
  },
  {
   "cell_type": "code",
   "execution_count": 4,
   "metadata": {
    "collapsed": true,
    "deletable": true,
    "editable": true
   },
   "outputs": [],
   "source": [
    "model = Sequential()\n",
    "\n",
    "model.add(Convolution2D(32, 3, 3, input_shape=(150, 150, 3)))\n",
    "model.add(Activation('relu'))\n",
    "model.add(MaxPooling2D(pool_size=(2, 2)))\n",
    "\n",
    "model.add(Convolution2D(32, 3, 3))\n",
    "model.add(Activation('relu'))\n",
    "model.add(MaxPooling2D(pool_size=(2, 2)))\n",
    "\n",
    "model.add(Convolution2D(64, 3, 3))\n",
    "model.add(Activation('relu'))\n",
    "model.add(MaxPooling2D(pool_size=(2, 2)))\n",
    "\n",
    "model.add(Flatten())\n",
    "model.add(Dense(64))\n",
    "\n",
    "model.add(Activation('relu'))\n",
    "model.add(Dropout(0.5))\n",
    "model.add(Dense(9))\n",
    "model.add(Activation('sigmoid'))"
   ]
  },
  {
   "cell_type": "markdown",
   "metadata": {
    "deletable": true,
    "editable": true
   },
   "source": [
    "### Training\n",
    "\n",
    "**Note:** the warning is appears, because the dataset size, 2366, is not divisible by 32. "
   ]
  },
  {
   "cell_type": "code",
   "execution_count": 5,
   "metadata": {
    "collapsed": false,
    "deletable": true,
    "editable": true
   },
   "outputs": [],
   "source": [
    "model.compile(loss='categorical_crossentropy', optimizer='adadelta', metrics=['accuracy'])"
   ]
  },
  {
   "cell_type": "code",
   "execution_count": 6,
   "metadata": {
    "collapsed": false,
    "deletable": true,
    "editable": true
   },
   "outputs": [
    {
     "name": "stdout",
     "output_type": "stream",
     "text": [
      "Epoch 1/30\n",
      "9s - loss: 2.8785 - acc: 0.2072 - val_loss: 1.5761 - val_acc: 0.4922\n",
      "Epoch 2/30\n"
     ]
    },
    {
     "name": "stderr",
     "output_type": "stream",
     "text": [
      "/usr/local/lib/python3.5/dist-packages/keras/engine/training.py:1573: UserWarning: Epoch comprised more than `samples_per_epoch` samples, which might affect learning results. Set `samples_per_epoch` correctly to avoid this warning.\n",
      "  warnings.warn('Epoch comprised more than '\n"
     ]
    },
    {
     "name": "stdout",
     "output_type": "stream",
     "text": [
      "9s - loss: 1.3579 - acc: 0.5676 - val_loss: 0.8579 - val_acc: 0.8359\n",
      "Epoch 3/30\n",
      "8s - loss: 0.9995 - acc: 0.6779 - val_loss: 0.5893 - val_acc: 0.8984\n",
      "Epoch 4/30\n",
      "8s - loss: 0.7985 - acc: 0.7553 - val_loss: 0.3976 - val_acc: 0.8906\n",
      "Epoch 5/30\n",
      "8s - loss: 0.6382 - acc: 0.8081 - val_loss: 0.3109 - val_acc: 0.9258\n",
      "Epoch 6/30\n",
      "8s - loss: 0.5300 - acc: 0.8567 - val_loss: 0.1611 - val_acc: 0.9648\n",
      "Epoch 7/30\n",
      "8s - loss: 0.4073 - acc: 0.8880 - val_loss: 0.1502 - val_acc: 0.9727\n",
      "Epoch 8/30\n",
      "9s - loss: 0.3753 - acc: 0.8977 - val_loss: 0.1754 - val_acc: 0.9531\n",
      "Epoch 9/30\n",
      "8s - loss: 0.3168 - acc: 0.9197 - val_loss: 0.0893 - val_acc: 0.9733\n",
      "Epoch 10/30\n",
      "8s - loss: 0.2681 - acc: 0.9239 - val_loss: 0.0595 - val_acc: 0.9847\n",
      "Epoch 11/30\n",
      "8s - loss: 0.2759 - acc: 0.9243 - val_loss: 0.1263 - val_acc: 0.9656\n",
      "Epoch 12/30\n",
      "8s - loss: 0.2213 - acc: 0.9358 - val_loss: 0.0359 - val_acc: 0.9924\n",
      "Epoch 13/30\n",
      "8s - loss: 0.2111 - acc: 0.9408 - val_loss: 0.0399 - val_acc: 0.9771\n",
      "Epoch 14/30\n",
      "8s - loss: 0.1994 - acc: 0.9480 - val_loss: 0.0596 - val_acc: 0.9885\n",
      "Epoch 15/30\n",
      "8s - loss: 0.1710 - acc: 0.9518 - val_loss: 0.0602 - val_acc: 0.9809\n",
      "Epoch 16/30\n",
      "8s - loss: 0.1792 - acc: 0.9539 - val_loss: 0.0507 - val_acc: 0.9885\n",
      "Epoch 17/30\n",
      "8s - loss: 0.1592 - acc: 0.9548 - val_loss: 0.0292 - val_acc: 0.9922\n",
      "Epoch 18/30\n",
      "8s - loss: 0.1383 - acc: 0.9603 - val_loss: 0.0294 - val_acc: 0.9922\n",
      "Epoch 19/30\n",
      "8s - loss: 0.1338 - acc: 0.9679 - val_loss: 0.0441 - val_acc: 0.9844\n",
      "Epoch 20/30\n",
      "8s - loss: 0.1228 - acc: 0.9607 - val_loss: 0.0180 - val_acc: 0.9922\n",
      "Epoch 21/30\n",
      "8s - loss: 0.1047 - acc: 0.9734 - val_loss: 0.0453 - val_acc: 0.9883\n",
      "Epoch 22/30\n",
      "8s - loss: 0.1134 - acc: 0.9683 - val_loss: 0.0571 - val_acc: 0.9883\n",
      "Epoch 23/30\n",
      "8s - loss: 0.1300 - acc: 0.9675 - val_loss: 0.0745 - val_acc: 0.9844\n",
      "Epoch 24/30\n",
      "8s - loss: 0.0956 - acc: 0.9713 - val_loss: 0.1015 - val_acc: 0.9844\n",
      "Epoch 25/30\n",
      "8s - loss: 0.1017 - acc: 0.9713 - val_loss: 0.0321 - val_acc: 0.9844\n",
      "Epoch 26/30\n",
      "8s - loss: 0.1006 - acc: 0.9730 - val_loss: 0.0745 - val_acc: 0.9883\n",
      "Epoch 27/30\n",
      "8s - loss: 0.1015 - acc: 0.9704 - val_loss: 0.0228 - val_acc: 0.9883\n",
      "Epoch 28/30\n",
      "8s - loss: 0.0984 - acc: 0.9751 - val_loss: 0.0229 - val_acc: 0.9922\n",
      "Epoch 29/30\n",
      "8s - loss: 0.0771 - acc: 0.9759 - val_loss: 0.0331 - val_acc: 0.9922\n",
      "Epoch 30/30\n",
      "8s - loss: 0.0836 - acc: 0.9746 - val_loss: 0.0385 - val_acc: 0.9922\n"
     ]
    }
   ],
   "source": [
    "history = model.fit_generator(\n",
    "        train_generator,\n",
    "        samples_per_epoch=2336,\n",
    "        nb_epoch=30,\n",
    "        validation_data=validation_generator,\n",
    "        nb_val_samples=256,\n",
    "        verbose=2)"
   ]
  },
  {
   "cell_type": "code",
   "execution_count": 7,
   "metadata": {
    "collapsed": false,
    "deletable": true,
    "editable": true,
    "scrolled": false
   },
   "outputs": [
    {
     "data": {
      "image/png": "[encoded data removed]",
      "text/plain": [
       "<matplotlib.figure.Figure at 0x7f7b819853c8>"
      ]
     },
     "metadata": {},
     "output_type": "display_data"
    },
    {
     "data": {
      "image/png": "[encoded data removed]",
      "text/plain": [
       "<matplotlib.figure.Figure at 0x7f7b818d2630>"
      ]
     },
     "metadata": {},
     "output_type": "display_data"
    }
   ],
   "source": [
    "# summarize history for accuracy\n",
    "plt.plot(history.history['acc'])\n",
    "plt.plot(history.history['val_acc'])\n",
    "plt.title('Model accuracy')\n",
    "plt.ylabel('Accuracy')\n",
    "plt.xlabel('Epoch')\n",
    "plt.legend(['Train', 'Validation'], loc='lower right')\n",
    "plt.show()\n",
    "\n",
    "# summarize history for loss\n",
    "plt.plot(history.history['loss'])\n",
    "plt.plot(history.history['val_loss'])\n",
    "plt.title('Model loss')\n",
    "plt.ylabel('Loss')\n",
    "plt.xlabel('Epoch')\n",
    "plt.legend(['Train', 'Validation'], loc='upper right')\n",
    "plt.show()\n"
   ]
  },
  {
   "cell_type": "markdown",
   "metadata": {
    "deletable": true,
    "editable": true
   },
   "source": [
    "### Evaluation"
   ]
  },
  {
   "cell_type": "code",
   "execution_count": 8,
   "metadata": {
    "collapsed": false,
    "deletable": true,
    "editable": true
   },
   "outputs": [
    {
     "name": "stdout",
     "output_type": "stream",
     "text": [
      "Found 262 images belonging to 9 classes.\n"
     ]
    }
   ],
   "source": [
    "test_datagen = ImageDataGenerator(\n",
    "    # rescale=1./255\n",
    ")\n",
    "\n",
    "test_generator = test_datagen.flow_from_directory(\n",
    "        DATASET_PATH + '/validation',\n",
    "        target_size=(150, 150),\n",
    "        batch_size=256,\n",
    "        class_mode='categorical'\n",
    ")"
   ]
  },
  {
   "cell_type": "code",
   "execution_count": 9,
   "metadata": {
    "collapsed": false,
    "deletable": true,
    "editable": true
   },
   "outputs": [
    {
     "name": "stdout",
     "output_type": "stream",
     "text": [
      "256/256 [==============================] - 0s\n"
     ]
    }
   ],
   "source": [
    "x_test, y_test = test_generator.next()\n",
    "\n",
    "y_pred = model.predict_classes(x_test, batch_size=256)"
   ]
  },
  {
   "cell_type": "code",
   "execution_count": 10,
   "metadata": {
    "collapsed": false,
    "deletable": true,
    "editable": true
   },
   "outputs": [
    {
     "data": {
      "text/html": [
       "<div>\n",
       "<table border=\"1\" class=\"dataframe\">\n",
       "  <thead>\n",
       "    <tr style=\"text-align: right;\">\n",
       "      <th></th>\n",
       "      <th>bluse</th>\n",
       "      <th>hoody</th>\n",
       "      <th>pants</th>\n",
       "      <th>polo</th>\n",
       "      <th>polo-long</th>\n",
       "      <th>skirt</th>\n",
       "      <th>towel</th>\n",
       "      <th>tshirt</th>\n",
       "      <th>tshirt-long</th>\n",
       "    </tr>\n",
       "  </thead>\n",
       "  <tbody>\n",
       "    <tr>\n",
       "      <th>bluse</th>\n",
       "      <td>9</td>\n",
       "      <td>0</td>\n",
       "      <td>0</td>\n",
       "      <td>0</td>\n",
       "      <td>0</td>\n",
       "      <td>0</td>\n",
       "      <td>0</td>\n",
       "      <td>0</td>\n",
       "      <td>0</td>\n",
       "    </tr>\n",
       "    <tr>\n",
       "      <th>hoody</th>\n",
       "      <td>0</td>\n",
       "      <td>4</td>\n",
       "      <td>0</td>\n",
       "      <td>0</td>\n",
       "      <td>0</td>\n",
       "      <td>0</td>\n",
       "      <td>0</td>\n",
       "      <td>0</td>\n",
       "      <td>0</td>\n",
       "    </tr>\n",
       "    <tr>\n",
       "      <th>pants</th>\n",
       "      <td>0</td>\n",
       "      <td>0</td>\n",
       "      <td>121</td>\n",
       "      <td>0</td>\n",
       "      <td>0</td>\n",
       "      <td>0</td>\n",
       "      <td>0</td>\n",
       "      <td>0</td>\n",
       "      <td>0</td>\n",
       "    </tr>\n",
       "    <tr>\n",
       "      <th>polo</th>\n",
       "      <td>0</td>\n",
       "      <td>0</td>\n",
       "      <td>0</td>\n",
       "      <td>27</td>\n",
       "      <td>0</td>\n",
       "      <td>0</td>\n",
       "      <td>0</td>\n",
       "      <td>0</td>\n",
       "      <td>0</td>\n",
       "    </tr>\n",
       "    <tr>\n",
       "      <th>polo-long</th>\n",
       "      <td>0</td>\n",
       "      <td>0</td>\n",
       "      <td>0</td>\n",
       "      <td>0</td>\n",
       "      <td>14</td>\n",
       "      <td>0</td>\n",
       "      <td>0</td>\n",
       "      <td>0</td>\n",
       "      <td>0</td>\n",
       "    </tr>\n",
       "    <tr>\n",
       "      <th>skirt</th>\n",
       "      <td>0</td>\n",
       "      <td>0</td>\n",
       "      <td>0</td>\n",
       "      <td>0</td>\n",
       "      <td>0</td>\n",
       "      <td>6</td>\n",
       "      <td>0</td>\n",
       "      <td>0</td>\n",
       "      <td>0</td>\n",
       "    </tr>\n",
       "    <tr>\n",
       "      <th>towel</th>\n",
       "      <td>0</td>\n",
       "      <td>0</td>\n",
       "      <td>0</td>\n",
       "      <td>0</td>\n",
       "      <td>0</td>\n",
       "      <td>0</td>\n",
       "      <td>9</td>\n",
       "      <td>0</td>\n",
       "      <td>0</td>\n",
       "    </tr>\n",
       "    <tr>\n",
       "      <th>tshirt</th>\n",
       "      <td>0</td>\n",
       "      <td>0</td>\n",
       "      <td>0</td>\n",
       "      <td>0</td>\n",
       "      <td>0</td>\n",
       "      <td>0</td>\n",
       "      <td>0</td>\n",
       "      <td>35</td>\n",
       "      <td>0</td>\n",
       "    </tr>\n",
       "    <tr>\n",
       "      <th>tshirt-long</th>\n",
       "      <td>0</td>\n",
       "      <td>0</td>\n",
       "      <td>2</td>\n",
       "      <td>0</td>\n",
       "      <td>0</td>\n",
       "      <td>0</td>\n",
       "      <td>0</td>\n",
       "      <td>0</td>\n",
       "      <td>29</td>\n",
       "    </tr>\n",
       "  </tbody>\n",
       "</table>\n",
       "</div>"
      ],
      "text/plain": [
       "             bluse  hoody  pants  polo  polo-long  skirt  towel  tshirt  \\\n",
       "bluse            9      0      0     0          0      0      0       0   \n",
       "hoody            0      4      0     0          0      0      0       0   \n",
       "pants            0      0    121     0          0      0      0       0   \n",
       "polo             0      0      0    27          0      0      0       0   \n",
       "polo-long        0      0      0     0         14      0      0       0   \n",
       "skirt            0      0      0     0          0      6      0       0   \n",
       "towel            0      0      0     0          0      0      9       0   \n",
       "tshirt           0      0      0     0          0      0      0      35   \n",
       "tshirt-long      0      0      2     0          0      0      0       0   \n",
       "\n",
       "             tshirt-long  \n",
       "bluse                  0  \n",
       "hoody                  0  \n",
       "pants                  0  \n",
       "polo                   0  \n",
       "polo-long              0  \n",
       "skirt                  0  \n",
       "towel                  0  \n",
       "tshirt                 0  \n",
       "tshirt-long           29  "
      ]
     },
     "execution_count": 10,
     "metadata": {},
     "output_type": "execute_result"
    }
   ],
   "source": [
    "class_indices = validation_generator.class_indices\n",
    "sorted_class_indices = sorted(class_indices.items(), key=operator.itemgetter(1))\n",
    "target_names = [x[0] for x in sorted_class_indices]\n",
    "\n",
    "labels = range(0, len(target_names))\n",
    "conf = confusion_matrix(np.argmax(y_test, axis=1), y_pred, labels)\n",
    "pd.DataFrame(data = conf, index=target_names, columns=target_names)\n"
   ]
  },
  {
   "cell_type": "markdown",
   "metadata": {
    "deletable": true,
    "editable": true
   },
   "source": [
    "### Results\n",
    "\n",
    "This experiment allowed to test the working pipeline – Keras over Tensorflow with CUDA support; the auxiliar libraries – NumPy, Sklearn and Matplotlib; the development tool – Jupyter Notebook.\n",
    "\n",
    "\n",
    "Because the used dataset was collected under artificial conditions, namely constant ilumination and background, the obtained results are extremely positive.\n",
    "\n",
    "Next experiments should encompass more complex datasets such as DeepFashion.\n",
    "\n",
    "\n"
   ]
  }
 ],
 "metadata": {
  "kernelspec": {
   "display_name": "Python 3",
   "language": "python",
   "name": "python3"
  },
  "language_info": {
   "codemirror_mode": {
    "name": "ipython",
    "version": 3
   },
   "file_extension": ".py",
   "mimetype": "text/x-python",
   "name": "python",
   "nbconvert_exporter": "python",
   "pygments_lexer": "ipython3",
   "version": "3.5.2"
  }
 },
 "nbformat": 4,
 "nbformat_minor": 0
}
