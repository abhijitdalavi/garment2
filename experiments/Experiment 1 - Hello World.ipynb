{
 "cells": [
  {
   "cell_type": "markdown",
   "metadata": {
    "deletable": true,
    "editable": true
   },
   "source": [
    "# Experiment 1 - Hello World\n",
    "\n",
    "### Description\n",
    "* **Dataset** : CloPeMa CTU 'Flat and Wrinkled' and 'Folded' combined. Validation subset randomly chosen with a probabilty of 30%.\n",
    "(https://drive.google.com/file/d/0B8Z1YBnBij8sYmpZanJ2a2VaSGs/view?usp=sharing)\n",
    "* **"
   ]
  },
  {
   "cell_type": "code",
   "execution_count": 18,
   "metadata": {
    "collapsed": false,
    "deletable": true,
    "editable": true
   },
   "outputs": [],
   "source": [
    "from keras.models import Sequential\n",
    "from keras.layers import Conv2D, MaxPooling2D\n",
    "from keras.layers import Activation, Dropout, Flatten, Dense\n",
    "from keras.preprocessing.image import ImageDataGenerator\n",
    "from sklearn.metrics import classification_report\n",
    "from sklearn.metrics import confusion_matrix\n",
    "import matplotlib.pyplot as plt\n",
    "import numpy as np\n",
    "import operator\n",
    "import pandas as pd"
   ]
  },
  {
   "cell_type": "code",
   "execution_count": 19,
   "metadata": {
    "collapsed": true,
    "deletable": true,
    "editable": true
   },
   "outputs": [],
   "source": [
    "DATASET_PATH = '/home/danfergo/SIG/Code/Experiments/data/clopema'"
   ]
  },
  {
   "cell_type": "code",
   "execution_count": 20,
   "metadata": {
    "collapsed": false,
    "deletable": true,
    "editable": true
   },
   "outputs": [
    {
     "name": "stdout",
     "output_type": "stream",
     "text": [
      "Found 2366 images belonging to 9 classes.\n",
      "Found 262 images belonging to 9 classes.\n"
     ]
    }
   ],
   "source": [
    "train_datagen = ImageDataGenerator(\n",
    ")\n",
    "\n",
    "validation_datagen = ImageDataGenerator(\n",
    ")\n",
    "\n",
    "\n",
    "train_generator = train_datagen.flow_from_directory(\n",
    "        DATASET_PATH + '/train',  # this is the target directory\n",
    "        target_size=(150, 150),  # all images will be resized to 150x150\n",
    "        batch_size=32,\n",
    "        class_mode='categorical',\n",
    "        shuffle=True\n",
    ")\n",
    "\n",
    "validation_generator = validation_datagen.flow_from_directory(\n",
    "        DATASET_PATH + '/validation',\n",
    "        target_size=(150, 150),\n",
    "        batch_size=32,\n",
    "        class_mode='categorical'\n",
    ")"
   ]
  },
  {
   "cell_type": "code",
   "execution_count": 23,
   "metadata": {
    "collapsed": false,
    "deletable": true,
    "editable": true
   },
   "outputs": [],
   "source": [
    "model = Sequential()\n",
    "\n",
    "model.add(Conv2D(32, (3, 3), input_shape=(150, 150, 3)))\n",
    "model.add(Activation('relu'))\n",
    "model.add(MaxPooling2D(pool_size=(2, 2)))\n",
    "\n",
    "model.add(Conv2D(32, (3, 3) ))\n",
    "model.add(Activation('relu'))\n",
    "model.add(MaxPooling2D(pool_size=(2, 2)))\n",
    "\n",
    "model.add(Conv2D(64, (3, 3) ))\n",
    "model.add(Activation('relu'))\n",
    "model.add(MaxPooling2D(pool_size=(2, 2)))\n",
    "\n",
    "model.add(Flatten())\n",
    "model.add(Dense(64))\n",
    "\n",
    "model.add(Activation('relu'))\n",
    "model.add(Dropout(0.5))\n",
    "model.add(Dense(9))\n",
    "model.add(Activation('sigmoid'))"
   ]
  },
  {
   "cell_type": "code",
   "execution_count": 5,
   "metadata": {
    "collapsed": false,
    "deletable": true,
    "editable": true
   },
   "outputs": [],
   "source": [
    "from IPython.display import SVG\n",
    "from IPython.core.display import Image, display\n",
    "\n",
    "# from keras.utils.visualize_util import model_to_dot\n",
    "\n",
    "# SVG(model_to_dot(model, show_shapes=True).create(prog='dot', format='svg'))"
   ]
  },
  {
   "cell_type": "markdown",
   "metadata": {
    "deletable": true,
    "editable": true
   },
   "source": [
    "### Training"
   ]
  },
  {
   "cell_type": "code",
   "execution_count": 24,
   "metadata": {
    "collapsed": false,
    "deletable": true,
    "editable": true
   },
   "outputs": [],
   "source": [
    "model.compile(loss='categorical_crossentropy', optimizer='adadelta', metrics=['accuracy'])"
   ]
  },
  {
   "cell_type": "code",
   "execution_count": 25,
   "metadata": {
    "collapsed": false,
    "deletable": true,
    "editable": true
   },
   "outputs": [
    {
     "name": "stdout",
     "output_type": "stream",
     "text": [
      "Epoch 1/30\n",
      "3s - loss: 3.1849 - acc: 0.1160 - val_loss: 2.0021 - val_acc: 0.3359\n",
      "Epoch 2/30\n",
      "3s - loss: 1.5213 - acc: 0.5285 - val_loss: 0.8527 - val_acc: 0.7739\n",
      "Epoch 3/30\n",
      "3s - loss: 1.0531 - acc: 0.6501 - val_loss: 0.5252 - val_acc: 0.8565\n",
      "Epoch 4/30\n",
      "3s - loss: 0.8062 - acc: 0.7381 - val_loss: 0.4942 - val_acc: 0.8870\n",
      "Epoch 5/30\n",
      "3s - loss: 0.6606 - acc: 0.7981 - val_loss: 0.4481 - val_acc: 0.8870\n",
      "Epoch 6/30\n",
      "3s - loss: 0.5254 - acc: 0.8384 - val_loss: 0.2696 - val_acc: 0.9391\n",
      "Epoch 7/30\n",
      "3s - loss: 0.4136 - acc: 0.8800 - val_loss: 0.2379 - val_acc: 0.9522\n",
      "Epoch 8/30\n",
      "3s - loss: 0.3847 - acc: 0.8929 - val_loss: 0.1885 - val_acc: 0.9565\n",
      "Epoch 9/30\n",
      "3s - loss: 0.3094 - acc: 0.9181 - val_loss: 0.1495 - val_acc: 0.9739\n",
      "Epoch 10/30\n",
      "3s - loss: 0.2834 - acc: 0.9172 - val_loss: 0.1154 - val_acc: 0.9826\n",
      "Epoch 11/30\n",
      "3s - loss: 0.2395 - acc: 0.9280 - val_loss: 0.1125 - val_acc: 0.9696\n",
      "Epoch 12/30\n",
      "3s - loss: 0.1943 - acc: 0.9460 - val_loss: 0.0558 - val_acc: 0.9826\n",
      "Epoch 13/30\n",
      "3s - loss: 0.1969 - acc: 0.9426 - val_loss: 0.1599 - val_acc: 0.9652\n",
      "Epoch 14/30\n",
      "3s - loss: 0.2149 - acc: 0.9395 - val_loss: 0.0389 - val_acc: 0.9870\n",
      "Epoch 15/30\n",
      "3s - loss: 0.1894 - acc: 0.9551 - val_loss: 0.0520 - val_acc: 0.9870\n",
      "Epoch 16/30\n",
      "3s - loss: 0.1518 - acc: 0.9631 - val_loss: 0.0863 - val_acc: 0.9783\n",
      "Epoch 17/30\n",
      "3s - loss: 0.1391 - acc: 0.9648 - val_loss: 0.0650 - val_acc: 0.9870\n",
      "Epoch 18/30\n",
      "3s - loss: 0.1331 - acc: 0.9670 - val_loss: 0.0830 - val_acc: 0.9783\n",
      "Epoch 19/30\n",
      "3s - loss: 0.1451 - acc: 0.9601 - val_loss: 0.0261 - val_acc: 0.9913\n",
      "Epoch 20/30\n",
      "3s - loss: 0.1313 - acc: 0.9657 - val_loss: 0.0556 - val_acc: 0.9783\n",
      "Epoch 21/30\n",
      "3s - loss: 0.1136 - acc: 0.9692 - val_loss: 0.2477 - val_acc: 0.9565\n",
      "Epoch 22/30\n",
      "3s - loss: 0.1112 - acc: 0.9709 - val_loss: 0.0963 - val_acc: 0.9652\n",
      "Epoch 23/30\n",
      "3s - loss: 0.0927 - acc: 0.9743 - val_loss: 0.0493 - val_acc: 0.9870\n",
      "Epoch 24/30\n",
      "3s - loss: 0.1260 - acc: 0.9691 - val_loss: 0.1352 - val_acc: 0.9565\n",
      "Epoch 25/30\n",
      "3s - loss: 0.0779 - acc: 0.9807 - val_loss: 0.0249 - val_acc: 0.9913\n",
      "Epoch 26/30\n",
      "3s - loss: 0.0646 - acc: 0.9799 - val_loss: 0.0371 - val_acc: 0.9870\n",
      "Epoch 27/30\n",
      "3s - loss: 0.0881 - acc: 0.9752 - val_loss: 0.0425 - val_acc: 0.9913\n",
      "Epoch 28/30\n",
      "3s - loss: 0.0792 - acc: 0.9812 - val_loss: 0.0536 - val_acc: 0.9870\n",
      "Epoch 29/30\n",
      "3s - loss: 0.0750 - acc: 0.9807 - val_loss: 0.0853 - val_acc: 0.9652\n",
      "Epoch 30/30\n",
      "3s - loss: 0.0776 - acc: 0.9807 - val_loss: 0.0519 - val_acc: 0.9870\n"
     ]
    }
   ],
   "source": [
    "history = model.fit_generator(\n",
    "        train_generator,\n",
    "        steps_per_epoch=73,\n",
    "        epochs=30,\n",
    "        validation_data=validation_generator,\n",
    "        validation_steps=8,\n",
    "        verbose=2)"
   ]
  },
  {
   "cell_type": "code",
   "execution_count": 26,
   "metadata": {
    "collapsed": false,
    "deletable": true,
    "editable": true,
    "scrolled": false
   },
   "outputs": [
    {
     "data": {
      "image/png": "[encoded data removed]",
      "text/plain": [
       "<matplotlib.figure.Figure at 0x7f54c99519e8>"
      ]
     },
     "metadata": {},
     "output_type": "display_data"
    },
    {
     "data": {
      "image/png": "[encoded data removed]",
      "text/plain": [
       "<matplotlib.figure.Figure at 0x7f553454f198>"
      ]
     },
     "metadata": {},
     "output_type": "display_data"
    }
   ],
   "source": [
    "# summarize history for accuracy\n",
    "plt.plot(history.history['acc'])\n",
    "plt.plot(history.history['val_acc'])\n",
    "plt.title('Model accuracy')\n",
    "plt.ylabel('Accuracy')\n",
    "plt.xlabel('Epoch')\n",
    "plt.legend(['Train', 'Validation'], loc='lower right')\n",
    "plt.show()\n",
    "\n",
    "# summarize history for loss\n",
    "plt.plot(history.history['loss'])\n",
    "plt.plot(history.history['val_loss'])\n",
    "plt.title('Model loss')\n",
    "plt.ylabel('Loss')\n",
    "plt.xlabel('Epoch')\n",
    "plt.legend(['Train', 'Validation'], loc='upper right')\n",
    "plt.show()"
   ]
  },
  {
   "cell_type": "markdown",
   "metadata": {
    "deletable": true,
    "editable": true
   },
   "source": [
    "### Evaluation"
   ]
  },
  {
   "cell_type": "code",
   "execution_count": 27,
   "metadata": {
    "collapsed": false,
    "deletable": true,
    "editable": true
   },
   "outputs": [
    {
     "name": "stdout",
     "output_type": "stream",
     "text": [
      "Found 262 images belonging to 9 classes.\n"
     ]
    }
   ],
   "source": [
    "test_datagen = ImageDataGenerator(\n",
    "    # rescale=1./255\n",
    ")\n",
    "\n",
    "test_generator = test_datagen.flow_from_directory(\n",
    "        DATASET_PATH + '/validation',\n",
    "        target_size=(150, 150),\n",
    "        batch_size=256,\n",
    "        class_mode='categorical'\n",
    ")"
   ]
  },
  {
   "cell_type": "code",
   "execution_count": 28,
   "metadata": {
    "collapsed": false,
    "deletable": true,
    "editable": true
   },
   "outputs": [
    {
     "name": "stdout",
     "output_type": "stream",
     "text": [
      "256/256 [==============================] - 0s\n"
     ]
    }
   ],
   "source": [
    "x_test, y_test = test_generator.next()\n",
    "\n",
    "y_pred = model.predict_classes(x_test, batch_size=256)"
   ]
  },
  {
   "cell_type": "code",
   "execution_count": 29,
   "metadata": {
    "collapsed": false,
    "deletable": true,
    "editable": true
   },
   "outputs": [
    {
     "data": {
      "text/html": [
       "<div>\n",
       "<table border=\"1\" class=\"dataframe\">\n",
       "  <thead>\n",
       "    <tr style=\"text-align: right;\">\n",
       "      <th></th>\n",
       "      <th>bluse</th>\n",
       "      <th>hoody</th>\n",
       "      <th>pants</th>\n",
       "      <th>polo</th>\n",
       "      <th>polo-long</th>\n",
       "      <th>skirt</th>\n",
       "      <th>towel</th>\n",
       "      <th>tshirt</th>\n",
       "      <th>tshirt-long</th>\n",
       "    </tr>\n",
       "  </thead>\n",
       "  <tbody>\n",
       "    <tr>\n",
       "      <th>bluse</th>\n",
       "      <td>9</td>\n",
       "      <td>0</td>\n",
       "      <td>0</td>\n",
       "      <td>0</td>\n",
       "      <td>0</td>\n",
       "      <td>0</td>\n",
       "      <td>0</td>\n",
       "      <td>0</td>\n",
       "      <td>0</td>\n",
       "    </tr>\n",
       "    <tr>\n",
       "      <th>hoody</th>\n",
       "      <td>0</td>\n",
       "      <td>4</td>\n",
       "      <td>0</td>\n",
       "      <td>0</td>\n",
       "      <td>0</td>\n",
       "      <td>0</td>\n",
       "      <td>0</td>\n",
       "      <td>0</td>\n",
       "      <td>0</td>\n",
       "    </tr>\n",
       "    <tr>\n",
       "      <th>pants</th>\n",
       "      <td>0</td>\n",
       "      <td>0</td>\n",
       "      <td>119</td>\n",
       "      <td>0</td>\n",
       "      <td>0</td>\n",
       "      <td>0</td>\n",
       "      <td>0</td>\n",
       "      <td>1</td>\n",
       "      <td>0</td>\n",
       "    </tr>\n",
       "    <tr>\n",
       "      <th>polo</th>\n",
       "      <td>0</td>\n",
       "      <td>0</td>\n",
       "      <td>0</td>\n",
       "      <td>26</td>\n",
       "      <td>0</td>\n",
       "      <td>0</td>\n",
       "      <td>0</td>\n",
       "      <td>0</td>\n",
       "      <td>0</td>\n",
       "    </tr>\n",
       "    <tr>\n",
       "      <th>polo-long</th>\n",
       "      <td>0</td>\n",
       "      <td>0</td>\n",
       "      <td>0</td>\n",
       "      <td>0</td>\n",
       "      <td>13</td>\n",
       "      <td>0</td>\n",
       "      <td>0</td>\n",
       "      <td>0</td>\n",
       "      <td>1</td>\n",
       "    </tr>\n",
       "    <tr>\n",
       "      <th>skirt</th>\n",
       "      <td>0</td>\n",
       "      <td>0</td>\n",
       "      <td>0</td>\n",
       "      <td>0</td>\n",
       "      <td>0</td>\n",
       "      <td>6</td>\n",
       "      <td>0</td>\n",
       "      <td>0</td>\n",
       "      <td>0</td>\n",
       "    </tr>\n",
       "    <tr>\n",
       "      <th>towel</th>\n",
       "      <td>0</td>\n",
       "      <td>0</td>\n",
       "      <td>0</td>\n",
       "      <td>0</td>\n",
       "      <td>0</td>\n",
       "      <td>0</td>\n",
       "      <td>10</td>\n",
       "      <td>0</td>\n",
       "      <td>0</td>\n",
       "    </tr>\n",
       "    <tr>\n",
       "      <th>tshirt</th>\n",
       "      <td>0</td>\n",
       "      <td>0</td>\n",
       "      <td>0</td>\n",
       "      <td>0</td>\n",
       "      <td>0</td>\n",
       "      <td>0</td>\n",
       "      <td>0</td>\n",
       "      <td>37</td>\n",
       "      <td>0</td>\n",
       "    </tr>\n",
       "    <tr>\n",
       "      <th>tshirt-long</th>\n",
       "      <td>0</td>\n",
       "      <td>0</td>\n",
       "      <td>1</td>\n",
       "      <td>0</td>\n",
       "      <td>0</td>\n",
       "      <td>0</td>\n",
       "      <td>0</td>\n",
       "      <td>0</td>\n",
       "      <td>29</td>\n",
       "    </tr>\n",
       "  </tbody>\n",
       "</table>\n",
       "</div>"
      ],
      "text/plain": [
       "             bluse  hoody  pants  polo  polo-long  skirt  towel  tshirt  \\\n",
       "bluse            9      0      0     0          0      0      0       0   \n",
       "hoody            0      4      0     0          0      0      0       0   \n",
       "pants            0      0    119     0          0      0      0       1   \n",
       "polo             0      0      0    26          0      0      0       0   \n",
       "polo-long        0      0      0     0         13      0      0       0   \n",
       "skirt            0      0      0     0          0      6      0       0   \n",
       "towel            0      0      0     0          0      0     10       0   \n",
       "tshirt           0      0      0     0          0      0      0      37   \n",
       "tshirt-long      0      0      1     0          0      0      0       0   \n",
       "\n",
       "             tshirt-long  \n",
       "bluse                  0  \n",
       "hoody                  0  \n",
       "pants                  0  \n",
       "polo                   0  \n",
       "polo-long              1  \n",
       "skirt                  0  \n",
       "towel                  0  \n",
       "tshirt                 0  \n",
       "tshirt-long           29  "
      ]
     },
     "execution_count": 29,
     "metadata": {},
     "output_type": "execute_result"
    }
   ],
   "source": [
    "class_indices = validation_generator.class_indices\n",
    "sorted_class_indices = sorted(class_indices.items(), key=operator.itemgetter(1))\n",
    "target_names = [x[0] for x in sorted_class_indices]\n",
    "\n",
    "labels = range(0, len(target_names))\n",
    "conf = confusion_matrix(np.argmax(y_test, axis=1), y_pred, labels)\n",
    "pd.DataFrame(data = conf, index=target_names, columns=target_names)"
   ]
  },
  {
   "cell_type": "markdown",
   "metadata": {
    "deletable": true,
    "editable": true
   },
   "source": [
    "### Results\n",
    "\n",
    "This experiment allowed to test the working pipeline – Keras over Tensorflow with CUDA support; the auxiliar libraries – NumPy, Sklearn and Matplotlib; the development tool – Jupyter Notebook.\n",
    "\n",
    "\n",
    "Because the used dataset was collected under artificial conditions, namely constant ilumination and background, the obtained results are extremely positive.\n",
    "\n",
    "Next experiments should encompass more complex datasets such as DeepFashion.\n",
    "\n",
    "\n"
   ]
  }
 ],
 "metadata": {
  "kernelspec": {
   "display_name": "Python 3",
   "language": "python",
   "name": "python3"
  },
  "language_info": {
   "codemirror_mode": {
    "name": "ipython",
    "version": 3.0
   },
   "file_extension": ".py",
   "mimetype": "text/x-python",
   "name": "python",
   "nbconvert_exporter": "python",
   "pygments_lexer": "ipython3",
   "version": "3.5.2"
  }
 },
 "nbformat": 4,
 "nbformat_minor": 0
}