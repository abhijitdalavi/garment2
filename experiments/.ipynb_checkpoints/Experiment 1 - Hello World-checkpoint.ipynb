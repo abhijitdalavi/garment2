{
 "cells": [
  {
   "cell_type": "markdown",
   "metadata": {
    "deletable": true,
    "editable": true
   },
   "source": [
    "# Experiment 1 - Hello World\n",
    "\n",
    "### Description\n",
    "* **Dataset** : CloPeMa CTU 'Flat and Wrinkled' and 'Folded' combined. Validation subset randomly chosen with a probabilty of 30%.\n",
    "(https://drive.google.com/file/d/0B8Z1YBnBij8sYmpZanJ2a2VaSGs/view?usp=sharing)\n",
    "* **"
   ]
  },
  {
   "cell_type": "code",
   "execution_count": 11,
   "metadata": {
    "collapsed": false,
    "deletable": true,
    "editable": true
   },
   "outputs": [],
   "source": [
    "from keras.models import Sequential\n",
    "from keras.layers import Convolution2D, MaxPooling2D\n",
    "from keras.layers import Activation, Dropout, Flatten, Dense\n",
    "from keras.preprocessing.image import ImageDataGenerator\n",
    "from sklearn.metrics import classification_report\n",
    "from sklearn.metrics import confusion_matrix\n",
    "import matplotlib.pyplot as plt\n",
    "import numpy as np\n",
    "import operator\n",
    "import pandas as pd\n"
   ]
  },
  {
   "cell_type": "code",
   "execution_count": 2,
   "metadata": {
    "collapsed": true,
    "deletable": true,
    "editable": true
   },
   "outputs": [],
   "source": [
    "DATASET_PATH = '/home/danfergo/SIG/Code/Experiments/data/clopema'"
   ]
  },
  {
   "cell_type": "code",
   "execution_count": 32,
   "metadata": {
    "collapsed": false,
    "deletable": true,
    "editable": true
   },
   "outputs": [
    {
     "name": "stdout",
     "output_type": "stream",
     "text": [
      "Found 2366 images belonging to 9 classes.\n",
      "Found 262 images belonging to 9 classes.\n"
     ]
    }
   ],
   "source": [
    "train_datagen = ImageDataGenerator(\n",
    "        # rescale=1./255,\n",
    "        # shear_range=0.2,\n",
    "        # zoom_range=0.2,\n",
    "        # horizontal_flip=True\n",
    ")\n",
    "\n",
    "validation_datagen = ImageDataGenerator(\n",
    "    # rescale=1./255\n",
    ")\n",
    "\n",
    "\n",
    "train_generator = train_datagen.flow_from_directory(\n",
    "        DATASET_PATH + '/train',  # this is the target directory\n",
    "        target_size=(150, 150),  # all images will be resized to 150x150\n",
    "        batch_size=32,\n",
    "        class_mode='categorical',\n",
    "        shuffle=True\n",
    ")\n",
    "\n",
    "validation_generator = validation_datagen.flow_from_directory(\n",
    "        DATASET_PATH + '/validation',\n",
    "        target_size=(150, 150),\n",
    "        batch_size=32,\n",
    "        class_mode='categorical'\n",
    ")"
   ]
  },
  {
   "cell_type": "code",
   "execution_count": 4,
   "metadata": {
    "collapsed": true,
    "deletable": true,
    "editable": true
   },
   "outputs": [],
   "source": [
    "model = Sequential()\n",
    "\n",
    "model.add(Convolution2D(32, 3, 3, input_shape=(150, 150, 3)))\n",
    "model.add(Activation('relu'))\n",
    "model.add(MaxPooling2D(pool_size=(2, 2)))\n",
    "\n",
    "model.add(Convolution2D(32, 3, 3))\n",
    "model.add(Activation('relu'))\n",
    "model.add(MaxPooling2D(pool_size=(2, 2)))\n",
    "\n",
    "model.add(Convolution2D(64, 3, 3))\n",
    "model.add(Activation('relu'))\n",
    "model.add(MaxPooling2D(pool_size=(2, 2)))\n",
    "\n",
    "model.add(Flatten())\n",
    "model.add(Dense(64))\n",
    "\n",
    "model.add(Activation('relu'))\n",
    "model.add(Dropout(0.5))\n",
    "model.add(Dense(9))\n",
    "model.add(Activation('sigmoid'))"
   ]
  },
  {
   "cell_type": "markdown",
   "metadata": {
    "deletable": true,
    "editable": true
   },
   "source": [
    "### Training"
   ]
  },
  {
   "cell_type": "code",
   "execution_count": 5,
   "metadata": {
    "collapsed": false,
    "deletable": true,
    "editable": true
   },
   "outputs": [],
   "source": [
    "model.compile(loss='categorical_crossentropy', optimizer='adadelta', metrics=['accuracy'])"
   ]
  },
  {
   "cell_type": "code",
   "execution_count": 30,
   "metadata": {
    "collapsed": false,
    "deletable": true,
    "editable": true
   },
   "outputs": [
    {
     "name": "stdout",
     "output_type": "stream",
     "text": [
      "Epoch 1/30\n"
     ]
    },
    {
     "name": "stderr",
     "output_type": "stream",
     "text": [
      "/usr/local/lib/python3.5/dist-packages/keras/engine/training.py:1573: UserWarning: Epoch comprised more than `samples_per_epoch` samples, which might affect learning results. Set `samples_per_epoch` correctly to avoid this warning.\n",
      "  warnings.warn('Epoch comprised more than '\n"
     ]
    },
    {
     "name": "stdout",
     "output_type": "stream",
     "text": [
      "12s - loss: 0.1835 - acc: 0.9625 - val_loss: 1.0472e-05 - val_acc: 1.0000\n",
      "Epoch 2/30\n",
      "11s - loss: 0.0508 - acc: 0.9825 - val_loss: 4.7555e-07 - val_acc: 1.0000\n",
      "Epoch 3/30\n",
      "11s - loss: 0.0603 - acc: 0.9862 - val_loss: 1.2687e-06 - val_acc: 1.0000\n",
      "Epoch 4/30\n",
      "10s - loss: 0.0539 - acc: 0.9871 - val_loss: 1.6630e-07 - val_acc: 1.0000\n",
      "Epoch 5/30\n",
      "10s - loss: 0.0565 - acc: 0.9854 - val_loss: 1.2796e-06 - val_acc: 1.0000\n",
      "Epoch 6/30\n",
      "10s - loss: 0.0510 - acc: 0.9892 - val_loss: 8.9317e-07 - val_acc: 1.0000\n",
      "Epoch 7/30\n",
      "11s - loss: 0.0369 - acc: 0.9912 - val_loss: 3.1682e-07 - val_acc: 1.0000\n",
      "Epoch 8/30\n",
      "10s - loss: 0.0468 - acc: 0.9871 - val_loss: 3.9858e-06 - val_acc: 1.0000\n",
      "Epoch 9/30\n",
      "10s - loss: 0.0287 - acc: 0.9904 - val_loss: 1.7652e-07 - val_acc: 1.0000\n",
      "Epoch 10/30\n",
      "10s - loss: 0.0531 - acc: 0.9887 - val_loss: 1.6139e-07 - val_acc: 1.0000\n",
      "Epoch 11/30\n",
      "10s - loss: 0.0317 - acc: 0.9908 - val_loss: 1.3232e-06 - val_acc: 1.0000\n",
      "Epoch 12/30\n",
      "11s - loss: 0.0493 - acc: 0.9883 - val_loss: 8.2148e-05 - val_acc: 1.0000\n",
      "Epoch 13/30\n",
      "10s - loss: 0.0280 - acc: 0.9921 - val_loss: 1.8013e-06 - val_acc: 1.0000\n",
      "Epoch 14/30\n",
      "10s - loss: 0.0437 - acc: 0.9896 - val_loss: 2.4369e-07 - val_acc: 1.0000\n",
      "Epoch 15/30\n",
      "10s - loss: 0.0320 - acc: 0.9892 - val_loss: 2.9510e-05 - val_acc: 1.0000\n",
      "Epoch 16/30\n",
      "10s - loss: 0.0359 - acc: 0.9912 - val_loss: 1.2448e-07 - val_acc: 1.0000\n",
      "Epoch 17/30\n",
      "11s - loss: 0.0224 - acc: 0.9946 - val_loss: 1.8523e-07 - val_acc: 1.0000\n",
      "Epoch 18/30\n",
      "11s - loss: 0.0369 - acc: 0.9908 - val_loss: 1.2889e-06 - val_acc: 1.0000\n",
      "Epoch 19/30\n",
      "11s - loss: 0.0355 - acc: 0.9925 - val_loss: 6.1171e-06 - val_acc: 1.0000\n",
      "Epoch 20/30\n",
      "10s - loss: 0.0301 - acc: 0.9925 - val_loss: 4.6401e-07 - val_acc: 1.0000\n",
      "Epoch 21/30\n",
      "11s - loss: 0.0305 - acc: 0.9933 - val_loss: 3.5080e-07 - val_acc: 1.0000\n",
      "Epoch 22/30\n",
      "10s - loss: 0.0294 - acc: 0.9929 - val_loss: 1.8799e-07 - val_acc: 1.0000\n",
      "Epoch 23/30\n",
      "10s - loss: 0.0275 - acc: 0.9917 - val_loss: 5.5260e-07 - val_acc: 1.0000\n",
      "Epoch 24/30\n",
      "10s - loss: 0.0279 - acc: 0.9929 - val_loss: 4.4022e-07 - val_acc: 1.0000\n",
      "Epoch 25/30\n",
      "10s - loss: 0.0269 - acc: 0.9921 - val_loss: 3.5452e-07 - val_acc: 1.0000\n",
      "Epoch 26/30\n",
      "10s - loss: 0.0291 - acc: 0.9917 - val_loss: 1.8549e-07 - val_acc: 1.0000\n",
      "Epoch 27/30\n",
      "11s - loss: 0.0194 - acc: 0.9937 - val_loss: 1.2388e-06 - val_acc: 1.0000\n",
      "Epoch 28/30\n",
      "10s - loss: 0.0269 - acc: 0.9946 - val_loss: 1.4674e-07 - val_acc: 1.0000\n",
      "Epoch 29/30\n",
      "10s - loss: 0.0268 - acc: 0.9925 - val_loss: 5.6621e-04 - val_acc: 1.0000\n",
      "Epoch 30/30\n",
      "10s - loss: 0.0274 - acc: 0.9921 - val_loss: 1.3277e-06 - val_acc: 1.0000\n"
     ]
    }
   ],
   "source": [
    "history = model.fit_generator(\n",
    "        train_generator,\n",
    "        samples_per_epoch=2368,\n",
    "        nb_epoch=30,\n",
    "        validation_data=validation_generator,\n",
    "        nb_val_samples=768,\n",
    "        verbose=2)"
   ]
  },
  {
   "cell_type": "code",
   "execution_count": 31,
   "metadata": {
    "collapsed": false,
    "deletable": true,
    "editable": true,
    "scrolled": false
   },
   "outputs": [
    {
     "data": {
      "text/plain": [
       "[<matplotlib.lines.Line2D at 0x7f43c8aba550>]"
      ]
     },
     "execution_count": 31,
     "metadata": {},
     "output_type": "execute_result"
    },
    {
     "data": {
      "text/plain": [
       "[<matplotlib.lines.Line2D at 0x7f43c8a71588>]"
      ]
     },
     "execution_count": 31,
     "metadata": {},
     "output_type": "execute_result"
    },
    {
     "data": {
      "text/plain": [
       "<matplotlib.text.Text at 0x7f43c8a4e860>"
      ]
     },
     "execution_count": 31,
     "metadata": {},
     "output_type": "execute_result"
    },
    {
     "data": {
      "text/plain": [
       "<matplotlib.text.Text at 0x7f43c897b128>"
      ]
     },
     "execution_count": 31,
     "metadata": {},
     "output_type": "execute_result"
    },
    {
     "data": {
      "text/plain": [
       "<matplotlib.text.Text at 0x7f43c8927400>"
      ]
     },
     "execution_count": 31,
     "metadata": {},
     "output_type": "execute_result"
    },
    {
     "data": {
      "text/plain": [
       "<matplotlib.legend.Legend at 0x7f43c8ab4c88>"
      ]
     },
     "execution_count": 31,
     "metadata": {},
     "output_type": "execute_result"
    },
    {
     "data": {
      "image/png": "[encoded data removed]",
      "text/plain": [
       "<matplotlib.figure.Figure at 0x7f43c8a714e0>"
      ]
     },
     "metadata": {},
     "output_type": "display_data"
    },
    {
     "data": {
      "text/plain": [
       "[<matplotlib.lines.Line2D at 0x7f43c8ecd358>]"
      ]
     },
     "execution_count": 31,
     "metadata": {},
     "output_type": "execute_result"
    },
    {
     "data": {
      "text/plain": [
       "[<matplotlib.lines.Line2D at 0x7f43c889ecf8>]"
      ]
     },
     "execution_count": 31,
     "metadata": {},
     "output_type": "execute_result"
    },
    {
     "data": {
      "text/plain": [
       "<matplotlib.text.Text at 0x7f43c8bff3c8>"
      ]
     },
     "execution_count": 31,
     "metadata": {},
     "output_type": "execute_result"
    },
    {
     "data": {
      "text/plain": [
       "<matplotlib.text.Text at 0x7f43c8b6ca20>"
      ]
     },
     "execution_count": 31,
     "metadata": {},
     "output_type": "execute_result"
    },
    {
     "data": {
      "text/plain": [
       "<matplotlib.text.Text at 0x7f43c8b77588>"
      ]
     },
     "execution_count": 31,
     "metadata": {},
     "output_type": "execute_result"
    },
    {
     "data": {
      "text/plain": [
       "<matplotlib.legend.Legend at 0x7f43c8ecd668>"
      ]
     },
     "execution_count": 31,
     "metadata": {},
     "output_type": "execute_result"
    },
    {
     "data": {
      "image/png": "[encoded data removed]",
      "text/plain": [
       "<matplotlib.figure.Figure at 0x7f43c8efc438>"
      ]
     },
     "metadata": {},
     "output_type": "display_data"
    }
   ],
   "source": [
    "# summarize history for accuracy\n",
    "plt.plot(history.history['acc'])\n",
    "plt.plot(history.history['val_acc'])\n",
    "plt.title('Model accuracy')\n",
    "plt.ylabel('Accuracy')\n",
    "plt.xlabel('Epoch')\n",
    "plt.legend(['Train', 'Validation'], loc='lower right')\n",
    "plt.show()\n",
    "\n",
    "# summarize history for loss\n",
    "plt.plot(history.history['loss'])\n",
    "plt.plot(history.history['val_loss'])\n",
    "plt.title('Model loss')\n",
    "plt.ylabel('Loss')\n",
    "plt.xlabel('Epoch')\n",
    "plt.legend(['Train', 'Validation'], loc='upper right')\n",
    "plt.show()\n"
   ]
  },
  {
   "cell_type": "markdown",
   "metadata": {
    "deletable": true,
    "editable": true
   },
   "source": [
    "### Evaluation"
   ]
  },
  {
   "cell_type": "code",
   "execution_count": 25,
   "metadata": {
    "collapsed": false
   },
   "outputs": [
    {
     "name": "stdout",
     "output_type": "stream",
     "text": [
      "Found 262 images belonging to 9 classes.\n"
     ]
    }
   ],
   "source": [
    "test_datagen = ImageDataGenerator(\n",
    "    # rescale=1./255\n",
    ")\n",
    "\n",
    "test_generator = test_datagen.flow_from_directory(\n",
    "        DATASET_PATH + '/validation',\n",
    "        target_size=(150, 150),\n",
    "        batch_size=256,\n",
    "        class_mode='categorical'\n",
    ")"
   ]
  },
  {
   "cell_type": "code",
   "execution_count": 23,
   "metadata": {
    "collapsed": false,
    "deletable": true,
    "editable": true
   },
   "outputs": [
    {
     "name": "stdout",
     "output_type": "stream",
     "text": [
      "32/32 [==============================] - 0s\n"
     ]
    }
   ],
   "source": [
    "x_test_2, y_test_2 = test_generator.next()\n",
    "\n",
    "y_pred = model.predict_classes(x_test, batch_size=256)"
   ]
  },
  {
   "cell_type": "code",
   "execution_count": 20,
   "metadata": {
    "collapsed": false,
    "deletable": true,
    "editable": true
   },
   "outputs": [
    {
     "data": {
      "text/html": [
       "<div>\n",
       "<table border=\"1\" class=\"dataframe\">\n",
       "  <thead>\n",
       "    <tr style=\"text-align: right;\">\n",
       "      <th></th>\n",
       "      <th>bluse</th>\n",
       "      <th>hoody</th>\n",
       "      <th>pants</th>\n",
       "      <th>polo</th>\n",
       "      <th>polo-long</th>\n",
       "      <th>skirt</th>\n",
       "      <th>towel</th>\n",
       "      <th>tshirt</th>\n",
       "      <th>tshirt-long</th>\n",
       "    </tr>\n",
       "  </thead>\n",
       "  <tbody>\n",
       "    <tr>\n",
       "      <th>bluse</th>\n",
       "      <td>3</td>\n",
       "      <td>0</td>\n",
       "      <td>0</td>\n",
       "      <td>0</td>\n",
       "      <td>0</td>\n",
       "      <td>0</td>\n",
       "      <td>0</td>\n",
       "      <td>0</td>\n",
       "      <td>0</td>\n",
       "    </tr>\n",
       "    <tr>\n",
       "      <th>hoody</th>\n",
       "      <td>0</td>\n",
       "      <td>1</td>\n",
       "      <td>0</td>\n",
       "      <td>0</td>\n",
       "      <td>0</td>\n",
       "      <td>0</td>\n",
       "      <td>0</td>\n",
       "      <td>0</td>\n",
       "      <td>0</td>\n",
       "    </tr>\n",
       "    <tr>\n",
       "      <th>pants</th>\n",
       "      <td>0</td>\n",
       "      <td>0</td>\n",
       "      <td>18</td>\n",
       "      <td>0</td>\n",
       "      <td>0</td>\n",
       "      <td>0</td>\n",
       "      <td>0</td>\n",
       "      <td>0</td>\n",
       "      <td>0</td>\n",
       "    </tr>\n",
       "    <tr>\n",
       "      <th>polo</th>\n",
       "      <td>0</td>\n",
       "      <td>0</td>\n",
       "      <td>0</td>\n",
       "      <td>6</td>\n",
       "      <td>0</td>\n",
       "      <td>0</td>\n",
       "      <td>0</td>\n",
       "      <td>0</td>\n",
       "      <td>0</td>\n",
       "    </tr>\n",
       "    <tr>\n",
       "      <th>polo-long</th>\n",
       "      <td>0</td>\n",
       "      <td>0</td>\n",
       "      <td>0</td>\n",
       "      <td>0</td>\n",
       "      <td>1</td>\n",
       "      <td>0</td>\n",
       "      <td>0</td>\n",
       "      <td>0</td>\n",
       "      <td>0</td>\n",
       "    </tr>\n",
       "    <tr>\n",
       "      <th>skirt</th>\n",
       "      <td>0</td>\n",
       "      <td>0</td>\n",
       "      <td>0</td>\n",
       "      <td>0</td>\n",
       "      <td>0</td>\n",
       "      <td>0</td>\n",
       "      <td>0</td>\n",
       "      <td>0</td>\n",
       "      <td>0</td>\n",
       "    </tr>\n",
       "    <tr>\n",
       "      <th>towel</th>\n",
       "      <td>0</td>\n",
       "      <td>0</td>\n",
       "      <td>0</td>\n",
       "      <td>0</td>\n",
       "      <td>0</td>\n",
       "      <td>0</td>\n",
       "      <td>1</td>\n",
       "      <td>0</td>\n",
       "      <td>0</td>\n",
       "    </tr>\n",
       "    <tr>\n",
       "      <th>tshirt</th>\n",
       "      <td>0</td>\n",
       "      <td>0</td>\n",
       "      <td>0</td>\n",
       "      <td>0</td>\n",
       "      <td>0</td>\n",
       "      <td>0</td>\n",
       "      <td>0</td>\n",
       "      <td>0</td>\n",
       "      <td>0</td>\n",
       "    </tr>\n",
       "    <tr>\n",
       "      <th>tshirt-long</th>\n",
       "      <td>0</td>\n",
       "      <td>0</td>\n",
       "      <td>0</td>\n",
       "      <td>0</td>\n",
       "      <td>0</td>\n",
       "      <td>0</td>\n",
       "      <td>0</td>\n",
       "      <td>0</td>\n",
       "      <td>2</td>\n",
       "    </tr>\n",
       "  </tbody>\n",
       "</table>\n",
       "</div>"
      ],
      "text/plain": [
       "             bluse  hoody  pants  polo  polo-long  skirt  towel  tshirt  \\\n",
       "bluse            3      0      0     0          0      0      0       0   \n",
       "hoody            0      1      0     0          0      0      0       0   \n",
       "pants            0      0     18     0          0      0      0       0   \n",
       "polo             0      0      0     6          0      0      0       0   \n",
       "polo-long        0      0      0     0          1      0      0       0   \n",
       "skirt            0      0      0     0          0      0      0       0   \n",
       "towel            0      0      0     0          0      0      1       0   \n",
       "tshirt           0      0      0     0          0      0      0       0   \n",
       "tshirt-long      0      0      0     0          0      0      0       0   \n",
       "\n",
       "             tshirt-long  \n",
       "bluse                  0  \n",
       "hoody                  0  \n",
       "pants                  0  \n",
       "polo                   0  \n",
       "polo-long              0  \n",
       "skirt                  0  \n",
       "towel                  0  \n",
       "tshirt                 0  \n",
       "tshirt-long            2  "
      ]
     },
     "execution_count": 20,
     "metadata": {},
     "output_type": "execute_result"
    }
   ],
   "source": [
    "class_indices = validation_generator.class_indices\n",
    "sorted_class_indices = sorted(class_indices.items(), key=operator.itemgetter(1))\n",
    "target_names = [x[0] for x in sorted_class_indices]\n",
    "\n",
    "labels = range(0, len(target_names))\n",
    "conf = confusion_matrix(np.argmax(y_test, axis=1), y_pred, labels)\n",
    "pd.DataFrame(data = conf, index=target_names, columns=target_names)\n"
   ]
  },
  {
   "cell_type": "markdown",
   "metadata": {
    "deletable": true,
    "editable": true
   },
   "source": [
    "### Results\n",
    "\n",
    "This experiment allowed to test the working pipeline – Keras over Tensorflow with CUDA support; the auxiliar libraries – NumPy, Sklearn and Matplotlib; the development tool – Jupyter Notebook.\n",
    "\n",
    "Because the used dataset was collected under artificial conditions, namely constant ilumination and background, the obtained results are extremely positive.\n"
   ]
  }
 ],
 "metadata": {
  "kernelspec": {
   "display_name": "Python 3",
   "language": "python",
   "name": "python3"
  },
  "language_info": {
   "codemirror_mode": {
    "name": "ipython",
    "version": 3
   },
   "file_extension": ".py",
   "mimetype": "text/x-python",
   "name": "python",
   "nbconvert_exporter": "python",
   "pygments_lexer": "ipython3",
   "version": "3.5.2"
  }
 },
 "nbformat": 4,
 "nbformat_minor": 0
}
